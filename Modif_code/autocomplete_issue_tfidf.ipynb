{
 "cells": [
  {
   "cell_type": "code",
   "execution_count": 1,
   "metadata": {},
   "outputs": [],
   "source": [
    "import numpy as np\n",
    "import pandas as pd\n",
    "import pyodbc\n",
    "import warnings\n",
    "import re\n",
    "import nltk\n",
    "from nltk import ngrams\n",
    "from collections import defaultdict\n",
    "import random\n",
    "from itertools import islice\n",
    "warnings.filterwarnings('ignore')\n",
    "\n",
    "from libraries.utils_predict import TextPredictor"
   ]
  },
  {
   "cell_type": "code",
   "execution_count": 2,
   "metadata": {},
   "outputs": [
    {
     "name": "stdout",
     "output_type": "stream",
     "text": [
      "(13561, 1)\n"
     ]
    },
    {
     "data": {
      "text/html": [
       "<div>\n",
       "<style scoped>\n",
       "    .dataframe tbody tr th:only-of-type {\n",
       "        vertical-align: middle;\n",
       "    }\n",
       "\n",
       "    .dataframe tbody tr th {\n",
       "        vertical-align: top;\n",
       "    }\n",
       "\n",
       "    .dataframe thead th {\n",
       "        text-align: right;\n",
       "    }\n",
       "</style>\n",
       "<table border=\"1\" class=\"dataframe\">\n",
       "  <thead>\n",
       "    <tr style=\"text-align: right;\">\n",
       "      <th></th>\n",
       "      <th>Issue</th>\n",
       "    </tr>\n",
       "  </thead>\n",
       "  <tbody>\n",
       "    <tr>\n",
       "      <th>0</th>\n",
       "      <td>PPE diletakkan diluar kotak PPE. Ada barang2 l...</td>\n",
       "    </tr>\n",
       "    <tr>\n",
       "      <th>1</th>\n",
       "      <td>tali tas rawan nyangkut/kepleset</td>\n",
       "    </tr>\n",
       "    <tr>\n",
       "      <th>2</th>\n",
       "      <td>tray terlalu dekat dengan paha operator</td>\n",
       "    </tr>\n",
       "    <tr>\n",
       "      <th>3</th>\n",
       "      <td>Alat elektronik dekat kaki operator</td>\n",
       "    </tr>\n",
       "    <tr>\n",
       "      <th>4</th>\n",
       "      <td>Alat elektronik dekat kaki</td>\n",
       "    </tr>\n",
       "  </tbody>\n",
       "</table>\n",
       "</div>"
      ],
      "text/plain": [
       "                                               Issue\n",
       "0  PPE diletakkan diluar kotak PPE. Ada barang2 l...\n",
       "1                   tali tas rawan nyangkut/kepleset\n",
       "2            tray terlalu dekat dengan paha operator\n",
       "3                Alat elektronik dekat kaki operator\n",
       "4                         Alat elektronik dekat kaki"
      ]
     },
     "execution_count": 2,
     "metadata": {},
     "output_type": "execute_result"
    }
   ],
   "source": [
    "conx_string = \"DRIVER={ODBC Driver 17 for SQL Server}; SERVER=APCKRMPTMD01PV,41433; Database=Namlos; UID=Namlos_user; PWD=M@!!eL@498#;\"\n",
    "conx = pyodbc.connect(conx_string)\n",
    "query = '''SELECT [Issue]\n",
    "  FROM [Namlos].[dbo].[KB_View_Issue_PowerBI]'''\n",
    "\n",
    "\n",
    "df = pd.read_sql(query, conx)\n",
    "print(df.shape)\n",
    "df.head()"
   ]
  },
  {
   "cell_type": "code",
   "execution_count": 3,
   "metadata": {},
   "outputs": [],
   "source": [
    "df.dropna(subset=['Issue'], inplace=True)"
   ]
  },
  {
   "cell_type": "code",
   "execution_count": 4,
   "metadata": {},
   "outputs": [],
   "source": [
    "def text_clean(text):\n",
    "    # Remove whitespace\n",
    "    text = text.strip()\n",
    "      \n",
    "    # Remove special characters and punctuation\n",
    "    text = re.sub(r'[^A-Za-z\\s]','', text)\n",
    "    text = re.sub(r'\\b(\\w+)\\.{3}', r'\\1', text)\n",
    "\n",
    "   \n",
    "    # Convert to lowercase\n",
    "    text = text.lower()\n",
    "\n",
    "    # Remove Number \n",
    "    text = re.sub('[0-9]+', '', text)\n",
    "\n",
    "    # Replace Word \n",
    "    text = text.replace('5 S', '5s')\n",
    "    text = text.replace('5S', '5s')\n",
    "    text = text.replace('improer','improper')\n",
    "\n",
    "\n",
    "    # Remove 2 of word repetitif\n",
    "    pattern = r'\\b(\\w+)(2)\\b'\n",
    "    text = re.sub(pattern, lambda match: f'{match.group(1)}', text)\n",
    "\n",
    "    # Separating conjoined words\n",
    "    word_combine = ['nyangkut','kepleset','tray','kotak','ppe','tali','operator','alat','lantai','part','terjepit','sop','sesuai','kabel',\n",
    "                    'stagging','meja','menjuntai','penempatan','mesin']\n",
    "    text = re.sub(r'(' + '|'.join(word_combine) + r')', r'\\1 ', text)\n",
    "   \n",
    "    return text\n",
    "\n",
    "df['Issue'] = df['Issue'].apply(text_clean)"
   ]
  },
  {
   "cell_type": "code",
   "execution_count": 5,
   "metadata": {},
   "outputs": [
    {
     "name": "stdout",
     "output_type": "stream",
     "text": [
      "Predicted next words :\n",
      "dan kotor stop kontak: 0.45477398117054957\n",
      "mesin berdebu dan kotor stop kontak\n",
      "\n",
      "kotor stop kontak: 0.31234841109354006\n",
      "mesin berdebu kotor stop kontak\n",
      "\n",
      "stop kontak: 0.09686835619023713\n",
      "mesin berdebu stop kontak\n",
      "\n",
      "kontak: 0.07894699317400468\n",
      "mesin berdebu kontak\n",
      "\n"
     ]
    }
   ],
   "source": [
    "predictor = TextPredictor(df['Issue'])\n",
    "text = \"mesin berdebu\"\n",
    "predicted_words = predictor.predict_next_words(text)\n",
    "print(\"Predicted next words :\")\n",
    "for word, score in predicted_words:\n",
    "    print(f\"{word}: {score}\")\n",
    "    print(f\"{text} {word}\")\n",
    "    print(\"\")"
   ]
  }
 ],
 "metadata": {
  "kernelspec": {
   "display_name": "base",
   "language": "python",
   "name": "python3"
  },
  "language_info": {
   "codemirror_mode": {
    "name": "ipython",
    "version": 3
   },
   "file_extension": ".py",
   "mimetype": "text/x-python",
   "name": "python",
   "nbconvert_exporter": "python",
   "pygments_lexer": "ipython3",
   "version": "3.11.7"
  }
 },
 "nbformat": 4,
 "nbformat_minor": 2
}
