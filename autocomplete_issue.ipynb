{
 "cells": [
  {
   "cell_type": "code",
   "execution_count": 4,
   "metadata": {},
   "outputs": [],
   "source": [
    "import math\n",
    "import random\n",
    "import numpy as np\n",
    "import pandas as pd\n",
    "import nltk\n",
    "import pyodbc\n",
    "import warnings \n",
    "warnings.filterwarnings('ignore')\n",
    "\n",
    "from libraries import utils_preprocess as upp, utils_ngram as ung, utils_perplexity as up, utils_suggestions as suggest"
   ]
  },
  {
   "cell_type": "code",
   "execution_count": 5,
   "metadata": {},
   "outputs": [
    {
     "name": "stdout",
     "output_type": "stream",
     "text": [
      "(12916, 6)\n"
     ]
    },
    {
     "data": {
      "text/html": [
       "<div>\n",
       "<style scoped>\n",
       "    .dataframe tbody tr th:only-of-type {\n",
       "        vertical-align: middle;\n",
       "    }\n",
       "\n",
       "    .dataframe tbody tr th {\n",
       "        vertical-align: top;\n",
       "    }\n",
       "\n",
       "    .dataframe thead th {\n",
       "        text-align: right;\n",
       "    }\n",
       "</style>\n",
       "<table border=\"1\" class=\"dataframe\">\n",
       "  <thead>\n",
       "    <tr style=\"text-align: right;\">\n",
       "      <th></th>\n",
       "      <th>Activity</th>\n",
       "      <th>KbPlant</th>\n",
       "      <th>Issue</th>\n",
       "      <th>Area</th>\n",
       "      <th>Scope</th>\n",
       "      <th>Date</th>\n",
       "    </tr>\n",
       "  </thead>\n",
       "  <tbody>\n",
       "    <tr>\n",
       "      <th>0</th>\n",
       "      <td>Kerja-Bersama</td>\n",
       "      <td>West</td>\n",
       "      <td>PPE diletakkan diluar kotak PPE. Ada barang2 l...</td>\n",
       "      <td>VUM</td>\n",
       "      <td>5S</td>\n",
       "      <td>2022-09-05</td>\n",
       "    </tr>\n",
       "    <tr>\n",
       "      <th>1</th>\n",
       "      <td>Kerja-Bersama</td>\n",
       "      <td>East</td>\n",
       "      <td>tali tas rawan nyangkut/kepleset</td>\n",
       "      <td>Final_Assembly</td>\n",
       "      <td>Safety</td>\n",
       "      <td>2022-09-05</td>\n",
       "    </tr>\n",
       "    <tr>\n",
       "      <th>2</th>\n",
       "      <td>Kerja-Bersama</td>\n",
       "      <td>East</td>\n",
       "      <td>tray terlalu dekat dengan paha operator</td>\n",
       "      <td>Final_Assembly</td>\n",
       "      <td>Safety</td>\n",
       "      <td>2022-09-05</td>\n",
       "    </tr>\n",
       "    <tr>\n",
       "      <th>3</th>\n",
       "      <td>Kerja-Bersama</td>\n",
       "      <td>East</td>\n",
       "      <td>Alat elektronik dekat kaki operator</td>\n",
       "      <td>Final_Assembly</td>\n",
       "      <td>Safety</td>\n",
       "      <td>2022-09-05</td>\n",
       "    </tr>\n",
       "    <tr>\n",
       "      <th>4</th>\n",
       "      <td>Kerja-Bersama</td>\n",
       "      <td>East</td>\n",
       "      <td>Alat elektronik dekat kaki</td>\n",
       "      <td>Final_Assembly</td>\n",
       "      <td>Safety</td>\n",
       "      <td>2022-09-05</td>\n",
       "    </tr>\n",
       "  </tbody>\n",
       "</table>\n",
       "</div>"
      ],
      "text/plain": [
       "        Activity KbPlant                                              Issue  \\\n",
       "0  Kerja-Bersama    West  PPE diletakkan diluar kotak PPE. Ada barang2 l...   \n",
       "1  Kerja-Bersama    East                   tali tas rawan nyangkut/kepleset   \n",
       "2  Kerja-Bersama    East            tray terlalu dekat dengan paha operator   \n",
       "3  Kerja-Bersama    East                Alat elektronik dekat kaki operator   \n",
       "4  Kerja-Bersama    East                         Alat elektronik dekat kaki   \n",
       "\n",
       "             Area   Scope        Date  \n",
       "0             VUM      5S  2022-09-05  \n",
       "1  Final_Assembly  Safety  2022-09-05  \n",
       "2  Final_Assembly  Safety  2022-09-05  \n",
       "3  Final_Assembly  Safety  2022-09-05  \n",
       "4  Final_Assembly  Safety  2022-09-05  "
      ]
     },
     "execution_count": 5,
     "metadata": {},
     "output_type": "execute_result"
    }
   ],
   "source": [
    "conx_string = \"DRIVER={ODBC Driver 17 for SQL Server}; SERVER=APCKRMPTMD01PV,41433; Database=Namlos; UID=Namlos_user; PWD=M@!!eL@498#;\"\n",
    "conx = pyodbc.connect(conx_string)\n",
    "query = '''SELECT [Activity]\n",
    "      ,[KbPlant]\n",
    "      ,[Issue]\n",
    "      ,[kbArea] as Area\n",
    "      ,[Scope]\n",
    "      ,[CreatedDate] as Date\n",
    "  FROM [Namlos].[dbo].[KB_View_Issue_PowerBI]'''\n",
    "\n",
    "\n",
    "df = pd.read_sql(query, conx)\n",
    "print(df.shape)\n",
    "df.head()"
   ]
  },
  {
   "cell_type": "code",
   "execution_count": 7,
   "metadata": {},
   "outputs": [
    {
     "data": {
      "text/plain": [
       "Area\n",
       "Final_Assembly    2934\n",
       "PIM               1180\n",
       "Rotocast           691\n",
       "PA_MBD             591\n",
       "Diecast            556\n",
       "Barbell            553\n",
       "ANP                498\n",
       "OMC                480\n",
       "ESP                422\n",
       "Tampo              415\n",
       "VUM                399\n",
       "Auto Rooting       274\n",
       "BBD                256\n",
       "Spray              245\n",
       "DIJ_MBD            217\n",
       "Tampo_MBD          215\n",
       "Die Cut            201\n",
       "Sewing             107\n",
       "DS Gemba            74\n",
       "PA_MDC              63\n",
       "Tampo_MDC           24\n",
       "Name: count, dtype: int64"
      ]
     },
     "execution_count": 7,
     "metadata": {},
     "output_type": "execute_result"
    }
   ],
   "source": [
    "df['Area'] = df['Area'].replace('','DS_Gemba')\n",
    "df['Area'].value_counts()"
   ]
  },
  {
   "cell_type": "code",
   "execution_count": 9,
   "metadata": {},
   "outputs": [
    {
     "data": {
      "text/plain": [
       "<Axes: xlabel='Scope'>"
      ]
     },
     "execution_count": 9,
     "metadata": {},
     "output_type": "execute_result"
    },
    {
     "data": {
      "image/png": "[encoded data removed]",
      "text/plain": [
       "<Figure size 640x480 with 1 Axes>"
      ]
     },
     "metadata": {},
     "output_type": "display_data"
    }
   ],
   "source": [
    "df = df[df['Scope'].ne('null')]\n",
    "df = df[df['Scope'].ne('-')]\n",
    "df = df[df['Scope'].str.strip().ne('')]\n",
    "df['Scope'] = df['Scope'].replace('Documents', 'Document')\n",
    "df['Scope'].value_counts().plot(kind ='bar')"
   ]
  },
  {
   "cell_type": "code",
   "execution_count": 14,
   "metadata": {},
   "outputs": [],
   "source": [
    "df.dropna(subset=['Issue'], inplace=True)"
   ]
  },
  {
   "cell_type": "code",
   "execution_count": 15,
   "metadata": {},
   "outputs": [],
   "source": [
    "data = ' '.join(df['Issue'])"
   ]
  },
  {
   "cell_type": "code",
   "execution_count": 16,
   "metadata": {},
   "outputs": [],
   "source": [
    "tokenized_data = upp.get_tokenized_data(data)\n",
    "random.seed(87)\n",
    "random.shuffle(tokenized_data)\n",
    "\n",
    "train_size = int(len(tokenized_data) * 0.8)\n",
    "train_data = tokenized_data[0:train_size]\n",
    "test_data = tokenized_data[train_size:]"
   ]
  },
  {
   "cell_type": "code",
   "execution_count": 17,
   "metadata": {},
   "outputs": [
    {
     "name": "stdout",
     "output_type": "stream",
     "text": [
      "99 data are split into 79 train and 20 test set\n",
      "\n",
      "First training sample: ['rc22', 'dekat', 'pintu', 'emergency', 'pendinginnya', 'kurang', ',', 'masih', 'menggunakan', 'selang', 'angin']\n",
      "\n",
      "First test sample : ['yellow', 'line', 'derack', 'terkelupas']\n",
      "\n"
     ]
    }
   ],
   "source": [
    "print(\"{} data are split into {} train and {} test set\".format(len(tokenized_data), len(train_data), len(test_data)), end='\\n\\n')\n",
    "print(f\"First training sample: {train_data[0]}\", end='\\n\\n')\n",
    "print(f\"First test sample : {test_data[0]}\", end='\\n\\n')"
   ]
  },
  {
   "cell_type": "code",
   "execution_count": 18,
   "metadata": {},
   "outputs": [
    {
     "name": "stdout",
     "output_type": "stream",
     "text": [
      "First preprocessed training sample : ['rc22', 'dekat', 'pintu', 'emergency', '<unk>', 'kurang', ',', 'masih', 'menggunakan', 'selang', 'angin']\n",
      "\n",
      "First preprocessed test sample : ['yellow', 'line', 'derack', 'terkelupas']\n",
      "\n",
      "First 10 vocabulary : ['rc22', 'dekat', 'pintu', 'emergency', 'kurang', ',', 'masih', 'menggunakan', 'selang', 'angin']\n",
      "\n",
      "Size of vocabulary: 2979\n"
     ]
    }
   ],
   "source": [
    "train_data, test_data, vocab = upp.preprocess_data(train_data, test_data, count_threshold=2)\n",
    "print(f\"First preprocessed training sample : {train_data[0]}\", end='\\n\\n')\n",
    "print(f\"First preprocessed test sample : {test_data[0]}\", end='\\n\\n')\n",
    "print(f\"First 10 vocabulary : {vocab[0:10]}\", end='\\n\\n')\n",
    "print(\"Size of vocabulary:\", len(vocab))"
   ]
  },
  {
   "cell_type": "code",
   "execution_count": 19,
   "metadata": {},
   "outputs": [
    {
     "name": "stdout",
     "output_type": "stream",
     "text": [
      "Computing n-gram counts with n = 1 ...\n",
      "Computing n-gram counts with n = 2 ...\n",
      "Computing n-gram counts with n = 3 ...\n",
      "Computing n-gram counts with n = 4 ...\n",
      "Computing n-gram counts with n = 5 ...\n"
     ]
    }
   ],
   "source": [
    "\n",
    "n_gram_counts_list = []\n",
    "for n in range(1, 6):\n",
    "    print(\"Computing n-gram counts with n =\", n, \"...\")\n",
    "    n_model_counts = ung.count_n_grams(train_data, n)\n",
    "    n_gram_counts_list.append(n_model_counts)"
   ]
  },
  {
   "cell_type": "code",
   "execution_count": 20,
   "metadata": {},
   "outputs": [
    {
     "name": "stdout",
     "output_type": "stream",
     "text": [
      "The previous words are ['yellow', 'line'], the suggestions are:\n"
     ]
    },
    {
     "data": {
      "text/plain": [
       "[('<unk>', 0.009738283627510651),\n",
       " ('terkelupas', 0.0035188739603326936),\n",
       " ('rc22', 0.0003354579000335458),\n",
       " ('rc22', 0.0003354579000335458)]"
      ]
     },
     "metadata": {},
     "output_type": "display_data"
    }
   ],
   "source": [
    "previous_tokens = [\"yellow\", \"line\"]\n",
    "suggest_words = suggest.get_suggestions(previous_tokens, n_gram_counts_list, vocab, k=1.0)\n",
    "\n",
    "print(f\"The previous words are {previous_tokens}, the suggestions are:\")\n",
    "display(suggest_words)"
   ]
  },
  {
   "cell_type": "code",
   "execution_count": 21,
   "metadata": {},
   "outputs": [
    {
     "name": "stdout",
     "output_type": "stream",
     "text": [
      "The previous words are ['kabel'], the suggestions are:\n"
     ]
    },
    {
     "data": {
      "text/plain": [
       "[('menjuntai', 0.01455108359133127),\n",
       " ('rc22', 0.0003354579000335458),\n",
       " ('rc22', 0.0003354579000335458),\n",
       " ('rc22', 0.0003354579000335458)]"
      ]
     },
     "metadata": {},
     "output_type": "display_data"
    }
   ],
   "source": [
    "previous_tokens = [\"kabel\"]\n",
    "suggest_words = suggest.get_suggestions(previous_tokens, n_gram_counts_list, vocab, k=1.0)\n",
    "\n",
    "print(f\"The previous words are {previous_tokens}, the suggestions are:\")\n",
    "display(suggest_words)"
   ]
  },
  {
   "cell_type": "code",
   "execution_count": 25,
   "metadata": {},
   "outputs": [
    {
     "name": "stdout",
     "output_type": "stream",
     "text": [
      "The previous words are ['cover', 'mesin', 'tidak'], the suggestions are:\n"
     ]
    },
    {
     "data": {
      "text/plain": [
       "[('ada', 0.11634404310516863),\n",
       " ('ada', 0.0046022353714661405),\n",
       " ('ada', 0.0016722408026755853),\n",
       " ('rc22', 0.0003354579000335458)]"
      ]
     },
     "metadata": {},
     "output_type": "display_data"
    }
   ],
   "source": [
    "previous_tokens = [\"cover\", \"mesin\", \"tidak\"]\n",
    "suggest_words = suggest.get_suggestions(previous_tokens, n_gram_counts_list, vocab, k=1.0)\n",
    "\n",
    "print(f\"The previous words are {previous_tokens}, the suggestions are:\")\n",
    "display(suggest_words)"
   ]
  },
  {
   "cell_type": "code",
   "execution_count": 28,
   "metadata": {},
   "outputs": [
    {
     "name": "stdout",
     "output_type": "stream",
     "text": [
      "The previous words are ['area', 'neckline', 'tidak'], the suggestions are:\n"
     ]
    },
    {
     "data": {
      "text/plain": [
       "[('ada', 0.11634404310516863),\n",
       " ('konsisten', 0.0006706908115358819),\n",
       " ('konsisten', 0.0006706908115358819),\n",
       " ('rc22', 0.0003354579000335458)]"
      ]
     },
     "metadata": {},
     "output_type": "display_data"
    }
   ],
   "source": [
    "previous_tokens = [\"area\", \"neckline\", \"tidak\"]\n",
    "suggest_words = suggest.get_suggestions(previous_tokens, n_gram_counts_list, vocab, k=1.0)\n",
    "\n",
    "print(f\"The previous words are {previous_tokens}, the suggestions are:\")\n",
    "display(suggest_words)"
   ]
  },
  {
   "cell_type": "code",
   "execution_count": 29,
   "metadata": {},
   "outputs": [
    {
     "name": "stdout",
     "output_type": "stream",
     "text": [
      "The previous words are ['black', 'spot'], the suggestions are:\n"
     ]
    },
    {
     "data": {
      "text/plain": [
       "[('welding', 0.010557571758495546),\n",
       " ('dan', 0.0013351134846461949),\n",
       " ('rc22', 0.0003354579000335458),\n",
       " ('rc22', 0.0003354579000335458)]"
      ]
     },
     "metadata": {},
     "output_type": "display_data"
    }
   ],
   "source": [
    "previous_tokens = [\"black\", \"spot\"]\n",
    "suggest_words = suggest.get_suggestions(previous_tokens, n_gram_counts_list, vocab, k=1.0)\n",
    "\n",
    "print(f\"The previous words are {previous_tokens}, the suggestions are:\")\n",
    "display(suggest_words)"
   ]
  }
 ],
 "metadata": {
  "kernelspec": {
   "display_name": "base",
   "language": "python",
   "name": "python3"
  },
  "language_info": {
   "codemirror_mode": {
    "name": "ipython",
    "version": 3
   },
   "file_extension": ".py",
   "mimetype": "text/x-python",
   "name": "python",
   "nbconvert_exporter": "python",
   "pygments_lexer": "ipython3",
   "version": "3.11.7"
  }
 },
 "nbformat": 4,
 "nbformat_minor": 2
}
